{
 "cells": [
  {
   "cell_type": "code",
   "execution_count": null,
   "id": "5dcbbc5e",
   "metadata": {
    "vscode": {
     "languageId": "plaintext"
    }
   },
   "outputs": [],
   "source": [
    "import pandas as pd\n",
    "import matplotlib.pyplot as plt\n",
    "\n",
    "df = pd.read_csv(\"../data/stock_data.csv\")\n",
    "print(df.head())\n",
    "\n",
    "plt.figure(figsize=(10, 5))\n",
    "plt.plot(df['Date'], df['Close'])\n",
    "plt.title(\"Stock Closing Price Over Time\")\n",
    "plt.xlabel(\"Date\")\n",
    "plt.ylabel(\"Close Price\")\n",
    "plt.show()\n"
   ]
  }
 ],
 "metadata": {
  "language_info": {
   "name": "python"
  }
 },
 "nbformat": 4,
 "nbformat_minor": 5
}
